{
 "cells": [
  {
   "cell_type": "code",
   "execution_count": 1,
   "id": "c1fbdcf5-43c6-4201-9a21-923880fc6999",
   "metadata": {},
   "outputs": [
    {
     "name": "stdout",
     "output_type": "stream",
     "text": [
      "[C1: ln9]: Modules Imported successfully\n"
     ]
    }
   ],
   "source": [
    "import tensorflow as tf\n",
    "import keras\n",
    "import matplotlib.pyplot as plt\n",
    "\n",
    "from tensorflow.keras.applications import ResNet50\n",
    "from tensorflow.keras.preprocessing.image import ImageDataGenerator\n",
    "from tensorflow.keras import layers, Sequential\n",
    "from tensorflow.keras.callbacks import ReduceLROnPlateau, ModelCheckpoint, EarlyStopping\n",
    "\n",
    "print(\"[C1: ln9]: Modules Imported successfully\")"
   ]
  },
  {
   "cell_type": "code",
   "execution_count": 2,
   "id": "3d5da1a5-16ec-4eb9-a3f5-70183ce0f92f",
   "metadata": {},
   "outputs": [
    {
     "name": "stdout",
     "output_type": "stream",
     "text": [
      "[C2: ln24]:  Data files initialized successfully.\n",
      "\n",
      "[C2: ln26]: Summary\n",
      "\n",
      "Type          \t\t Test     \t\t Train     \t\t Validation\n",
      "Adenocarcinoma\t\t 27     \t\t 56     \t\t 56\n",
      "LC_carcinoma  \t\t 33       \t\t 59     \t\t 59\n",
      "SC_carcinoma  \t\t 36       \t\t 62     \t\t 62\n",
      "Normal        \t\t 19     \t\t 20     \t\t 20\n",
      "++++++++++++++++++++++++++++++++++++++++++++++++++++++++++++++++++++++++++++++++++++\n",
      "\n"
     ]
    }
   ],
   "source": [
    "# root Folders\n",
    "test_root = \"dataset/test\"\n",
    "train_root = \"dataset/train\"\n",
    "valid = \"dataset/valid\"\n",
    "\n",
    "# test\n",
    "test_adenocarcinoma = \"dataset/test/adenocarcinoma\"\n",
    "test_lc_carcinoma = \"dataset/test/large.cell.carcinoma\"\n",
    "test_normal = \"dataset/test/normal\"\n",
    "test_sc_carcinoma = \"dataset/test/squamous.cell.carcinoma\"\n",
    "\n",
    "#train\n",
    "train_adenocarcinoma = \"dataset/train/adenocarcinoma_left.lower.lobe_T2_N0_M0_Ib\"\n",
    "train_lc_carcinoma = \"dataset/train/large.cell.carcinoma_left.hilum_T2_N2_M0_IIIa\"\n",
    "train_normal = \"dataset/train/normal\"\n",
    "train_sc_carcinoma = \"dataset/train/squamous.cell.carcinoma_left.hilum_T1_N2_M0_IIIa\"\n",
    "\n",
    "#validation\n",
    "valid_adenocarcinoma = \"dataset/valid/adenocarcinoma_left.lower.lobe_T2_N0_M0_Ib\"\n",
    "valid_lc_carcinoma = \"dataset/valid/large.cell.carcinoma_left.hilum_T2_N2_M0_IIIa\"\n",
    "valid_normal = \"dataset/valid/normal\"\n",
    "valid_sc_carcinoma = \"dataset/valid/squamous.cell.carcinoma_left.hilum_T1_N2_M0_IIIa\"\n",
    "\n",
    "print(\"[C2: ln24]:  Data files initialized successfully.\\n\")\n",
    "\n",
    "print(\"[C2: ln26]: Summary\\n\")\n",
    "print(f\"Type          \\t\\t Test     \\t\\t Train     \\t\\t Validation\\n\"\n",
    "      f\"Adenocarcinoma\\t\\t {len(test_adenocarcinoma)}     \\t\\t {len(train_adenocarcinoma)}     \\t\\t {len(valid_adenocarcinoma)}\\n\"\n",
    "      f\"LC_carcinoma  \\t\\t {len(test_lc_carcinoma)}       \\t\\t {len(train_lc_carcinoma)}     \\t\\t {len(valid_lc_carcinoma)}\\n\"\n",
    "      f\"SC_carcinoma  \\t\\t {len(test_sc_carcinoma)}       \\t\\t {len(train_sc_carcinoma)}     \\t\\t {len(valid_sc_carcinoma)}\\n\"\n",
    "      f\"Normal        \\t\\t {len(test_normal)}     \\t\\t {len(train_normal)}     \\t\\t {len(valid_normal)}\\n\"\n",
    "      f\"++++++++++++++++++++++++++++++++++++++++++++++++++++++++++++++++++++++++++++++++++++\\n\")"
   ]
  },
  {
   "cell_type": "code",
   "execution_count": 3,
   "id": "7487a9dd-0fff-46d6-bd5a-7f13c1a8cd7e",
   "metadata": {},
   "outputs": [
    {
     "name": "stdout",
     "output_type": "stream",
     "text": [
      "[C3: ln1]: Data Preparation Initiated\n",
      "Found 613 images belonging to 4 classes.\n",
      "Found 315 images belonging to 4 classes.\n",
      "[C3: ln30]: Data Preparation Completed.\n",
      "\n"
     ]
    }
   ],
   "source": [
    "print(\"[C3: ln1]: Data Preparation Initiated\")\n",
    "\n",
    "batch_size = 2\n",
    "img_h, img_w = 255,255\n",
    "\n",
    "test_datagen = ImageDataGenerator(\n",
    "      rescale=1./255,\n",
    "      #target_size=(255,255),\n",
    "      horizontal_flip=True,\n",
    "      brightness_range=(0,7),\n",
    "    rotation_range=40,\n",
    "    shear_range=0.2,\n",
    "    zoom_range = 0.2,\n",
    "    fill_mode = 'nearest'\n",
    "    \n",
    ")\n",
    "\n",
    "\n",
    "train_datagen =ImageDataGenerator(\n",
    "      rescale=1./255,\n",
    "      horizontal_flip=True,\n",
    "      brightness_range=(0,7),\n",
    "    rotation_range=40,\n",
    "    shear_range=0.2,\n",
    "    zoom_range = 0.2,\n",
    "    fill_mode = 'nearest'\n",
    ")\n",
    "\n",
    "train_generator = train_datagen.flow_from_directory(\n",
    "      train_root,\n",
    "     target_size=(255,255),\n",
    "      batch_size=batch_size\n",
    ")\n",
    "\n",
    "valid_generator = test_datagen.flow_from_directory(\n",
    "      test_root,\n",
    "      batch_size = batch_size,\n",
    "    target_size=(255,255)\n",
    ")\n",
    "\n",
    "print(\"[C3: ln30]: Data Preparation Completed.\\n\")"
   ]
  },
  {
   "cell_type": "code",
   "execution_count": 4,
   "id": "334bf5ce-3bea-4cdf-a2b9-83df1aaa3c8a",
   "metadata": {},
   "outputs": [
    {
     "name": "stdout",
     "output_type": "stream",
     "text": [
      "[C4: ln7]: callbacks Created successfully.\n"
     ]
    }
   ],
   "source": [
    "# creating callbacks\n",
    "def schedule(epoch, lr):\n",
    "    if epoch > 50:\n",
    "        return lr * 0.5\n",
    "    else:\n",
    "        return lr\n",
    "        \n",
    "learning_rate_scheduler = tf.keras.callbacks.LearningRateScheduler(schedule=schedule)\n",
    "reduce_lr = ReduceLROnPlateau( monitor=\"val_loss\", factor=0.2, patience= 5, min_lr=0.001)\n",
    "early_stop = EarlyStopping(monitor=\"val_loss\",patience=50,min_delta=0.0001)\n",
    "model_checkpoint = ModelCheckpoint(\"updated_model.keras\",monitor=\"val_loss\",save_best_only=True)\n",
    "\n",
    "print(\"[C4: ln7]: callbacks Created successfully.\")"
   ]
  },
  {
   "cell_type": "code",
   "execution_count": 5,
   "id": "32bc60a2-e156-4310-b5ba-31b864f82b58",
   "metadata": {},
   "outputs": [
    {
     "name": "stdout",
     "output_type": "stream",
     "text": [
      "[C5: ln1]: Building ResNet Model\n"
     ]
    }
   ],
   "source": [
    "print(\"[C5: ln1]: Building ResNet Model\")\n",
    "\n",
    "resNet_model = Sequential()\n",
    "pretrained_model = ResNet50(\n",
    "      include_top = False, input_shape = (img_h, img_w, 3), pooling='avg', weights='imagenet'\n",
    ")\n",
    "\n",
    "for layer in pretrained_model.layers:\n",
    "      layer.trainable = False\n",
    "\n",
    "\n",
    "resNet_model.add(pretrained_model)\n",
    "resNet_model.add(layers.Flatten())\n",
    "resNet_model.add(layers.Dense(77, activation=\"relu\"))\n",
    "resNet_model.add(layers.Dense(32, activation=\"relu\"))\n",
    "resNet_model.add(layers.Dense(4, activation=\"softmax\"))\n",
    "\n"
   ]
  },
  {
   "cell_type": "code",
   "execution_count": null,
   "id": "62a52e15-6467-4a8c-b3c4-f704fe73db3c",
   "metadata": {},
   "outputs": [
    {
     "name": "stdout",
     "output_type": "stream",
     "text": [
      "[C6: ln1]:  Training Model\n",
      "Epoch 1/150\n"
     ]
    },
    {
     "name": "stderr",
     "output_type": "stream",
     "text": [
      "C:\\Users\\Admin\\AppData\\Local\\Programs\\Python\\Python312\\Lib\\site-packages\\keras\\src\\trainers\\data_adapters\\py_dataset_adapter.py:121: UserWarning: Your `PyDataset` class should call `super().__init__(**kwargs)` in its constructor. `**kwargs` can include `workers`, `use_multiprocessing`, `max_queue_size`. Do not pass these arguments to `fit()`, as they will be ignored.\n",
      "  self._warn_if_super_not_called()\n"
     ]
    },
    {
     "name": "stdout",
     "output_type": "stream",
     "text": [
      "\u001b[1m307/307\u001b[0m \u001b[32m━━━━━━━━━━━━━━━━━━━━\u001b[0m\u001b[37m\u001b[0m \u001b[1m346s\u001b[0m 1s/step - accuracy: 0.2847 - loss: 6.4210 - val_accuracy: 0.3810 - val_loss: 1.3363 - learning_rate: 0.1000\n",
      "Epoch 2/150\n",
      "\u001b[1m307/307\u001b[0m \u001b[32m━━━━━━━━━━━━━━━━━━━━\u001b[0m\u001b[37m\u001b[0m \u001b[1m333s\u001b[0m 1s/step - accuracy: 0.2928 - loss: 1.4025 - val_accuracy: 0.3810 - val_loss: 1.3377 - learning_rate: 0.1000\n",
      "Epoch 3/150\n",
      "\u001b[1m307/307\u001b[0m \u001b[32m━━━━━━━━━━━━━━━━━━━━\u001b[0m\u001b[37m\u001b[0m \u001b[1m628s\u001b[0m 2s/step - accuracy: 0.2665 - loss: 1.4028 - val_accuracy: 0.2857 - val_loss: 1.3422 - learning_rate: 0.1000\n",
      "Epoch 4/150\n",
      "\u001b[1m307/307\u001b[0m \u001b[32m━━━━━━━━━━━━━━━━━━━━\u001b[0m\u001b[37m\u001b[0m \u001b[1m485s\u001b[0m 2s/step - accuracy: 0.3149 - loss: 1.3897 - val_accuracy: 0.3810 - val_loss: 1.3602 - learning_rate: 0.1000\n",
      "Epoch 5/150\n",
      "\u001b[1m307/307\u001b[0m \u001b[32m━━━━━━━━━━━━━━━━━━━━\u001b[0m\u001b[37m\u001b[0m \u001b[1m574s\u001b[0m 2s/step - accuracy: 0.3674 - loss: 1.3684 - val_accuracy: 0.3810 - val_loss: 1.3634 - learning_rate: 0.1000\n",
      "Epoch 6/150\n",
      "\u001b[1m307/307\u001b[0m \u001b[32m━━━━━━━━━━━━━━━━━━━━\u001b[0m\u001b[37m\u001b[0m \u001b[1m480s\u001b[0m 2s/step - accuracy: 0.2965 - loss: 1.3914 - val_accuracy: 0.2857 - val_loss: 1.4620 - learning_rate: 0.0200\n",
      "Epoch 7/150\n",
      "\u001b[1m307/307\u001b[0m \u001b[32m━━━━━━━━━━━━━━━━━━━━\u001b[0m\u001b[37m\u001b[0m \u001b[1m536s\u001b[0m 2s/step - accuracy: 0.3107 - loss: 1.3852 - val_accuracy: 0.3810 - val_loss: 1.3506 - learning_rate: 0.0200\n",
      "Epoch 8/150\n",
      "\u001b[1m307/307\u001b[0m \u001b[32m━━━━━━━━━━━━━━━━━━━━\u001b[0m\u001b[37m\u001b[0m \u001b[1m420s\u001b[0m 1s/step - accuracy: 0.3270 - loss: 1.3739 - val_accuracy: 0.3810 - val_loss: 1.3512 - learning_rate: 0.0200\n",
      "Epoch 9/150\n",
      "\u001b[1m307/307\u001b[0m \u001b[32m━━━━━━━━━━━━━━━━━━━━\u001b[0m\u001b[37m\u001b[0m \u001b[1m394s\u001b[0m 1s/step - accuracy: 0.3478 - loss: 1.3662 - val_accuracy: 0.3810 - val_loss: 1.3497 - learning_rate: 0.0200\n",
      "Epoch 10/150\n",
      "\u001b[1m307/307\u001b[0m \u001b[32m━━━━━━━━━━━━━━━━━━━━\u001b[0m\u001b[37m\u001b[0m \u001b[1m368s\u001b[0m 1s/step - accuracy: 0.2810 - loss: 1.3821 - val_accuracy: 0.3810 - val_loss: 1.3455 - learning_rate: 0.0200\n",
      "Epoch 11/150\n",
      "\u001b[1m307/307\u001b[0m \u001b[32m━━━━━━━━━━━━━━━━━━━━\u001b[0m\u001b[37m\u001b[0m \u001b[1m349s\u001b[0m 1s/step - accuracy: 0.3535 - loss: 1.3577 - val_accuracy: 0.3810 - val_loss: 1.3464 - learning_rate: 0.0040\n",
      "Epoch 12/150\n",
      "\u001b[1m307/307\u001b[0m \u001b[32m━━━━━━━━━━━━━━━━━━━━\u001b[0m\u001b[37m\u001b[0m \u001b[1m366s\u001b[0m 1s/step - accuracy: 0.3124 - loss: 1.3755 - val_accuracy: 0.3810 - val_loss: 1.3439 - learning_rate: 0.0040\n",
      "Epoch 13/150\n",
      "\u001b[1m307/307\u001b[0m \u001b[32m━━━━━━━━━━━━━━━━━━━━\u001b[0m\u001b[37m\u001b[0m \u001b[1m352s\u001b[0m 1s/step - accuracy: 0.3278 - loss: 1.3696 - val_accuracy: 0.3810 - val_loss: 1.3426 - learning_rate: 0.0040\n",
      "Epoch 14/150\n",
      "\u001b[1m307/307\u001b[0m \u001b[32m━━━━━━━━━━━━━━━━━━━━\u001b[0m\u001b[37m\u001b[0m \u001b[1m354s\u001b[0m 1s/step - accuracy: 0.3133 - loss: 1.3746 - val_accuracy: 0.3810 - val_loss: 1.3434 - learning_rate: 0.0040\n",
      "Epoch 15/150\n",
      "\u001b[1m307/307\u001b[0m \u001b[32m━━━━━━━━━━━━━━━━━━━━\u001b[0m\u001b[37m\u001b[0m \u001b[1m356s\u001b[0m 1s/step - accuracy: 0.3075 - loss: 1.3707 - val_accuracy: 0.3810 - val_loss: 1.3445 - learning_rate: 0.0040\n",
      "Epoch 16/150\n",
      "\u001b[1m307/307\u001b[0m \u001b[32m━━━━━━━━━━━━━━━━━━━━\u001b[0m\u001b[37m\u001b[0m \u001b[1m356s\u001b[0m 1s/step - accuracy: 0.3233 - loss: 1.3700 - val_accuracy: 0.3810 - val_loss: 1.3437 - learning_rate: 0.0010\n",
      "Epoch 17/150\n",
      "\u001b[1m307/307\u001b[0m \u001b[32m━━━━━━━━━━━━━━━━━━━━\u001b[0m\u001b[37m\u001b[0m \u001b[1m356s\u001b[0m 1s/step - accuracy: 0.3243 - loss: 1.3666 - val_accuracy: 0.3810 - val_loss: 1.3434 - learning_rate: 0.0010\n",
      "Epoch 18/150\n",
      "\u001b[1m307/307\u001b[0m \u001b[32m━━━━━━━━━━━━━━━━━━━━\u001b[0m\u001b[37m\u001b[0m \u001b[1m359s\u001b[0m 1s/step - accuracy: 0.3267 - loss: 1.3652 - val_accuracy: 0.3810 - val_loss: 1.3436 - learning_rate: 0.0010\n",
      "Epoch 19/150\n",
      "\u001b[1m307/307\u001b[0m \u001b[32m━━━━━━━━━━━━━━━━━━━━\u001b[0m\u001b[37m\u001b[0m \u001b[1m287s\u001b[0m 930ms/step - accuracy: 0.3315 - loss: 1.3658 - val_accuracy: 0.3810 - val_loss: 1.3440 - learning_rate: 0.0010\n",
      "Epoch 20/150\n",
      "\u001b[1m307/307\u001b[0m \u001b[32m━━━━━━━━━━━━━━━━━━━━\u001b[0m\u001b[37m\u001b[0m \u001b[1m306s\u001b[0m 994ms/step - accuracy: 0.3254 - loss: 1.3678 - val_accuracy: 0.3810 - val_loss: 1.3437 - learning_rate: 0.0010\n",
      "Epoch 21/150\n",
      "\u001b[1m307/307\u001b[0m \u001b[32m━━━━━━━━━━━━━━━━━━━━\u001b[0m\u001b[37m\u001b[0m \u001b[1m293s\u001b[0m 955ms/step - accuracy: 0.3178 - loss: 1.3687 - val_accuracy: 0.3810 - val_loss: 1.3435 - learning_rate: 0.0010\n",
      "Epoch 22/150\n",
      "\u001b[1m307/307\u001b[0m \u001b[32m━━━━━━━━━━━━━━━━━━━━\u001b[0m\u001b[37m\u001b[0m \u001b[1m302s\u001b[0m 983ms/step - accuracy: 0.3347 - loss: 1.3754 - val_accuracy: 0.3810 - val_loss: 1.3441 - learning_rate: 0.0010\n",
      "Epoch 23/150\n",
      "\u001b[1m307/307\u001b[0m \u001b[32m━━━━━━━━━━━━━━━━━━━━\u001b[0m\u001b[37m\u001b[0m \u001b[1m295s\u001b[0m 959ms/step - accuracy: 0.3546 - loss: 1.3629 - val_accuracy: 0.3810 - val_loss: 1.3437 - learning_rate: 0.0010\n",
      "Epoch 24/150\n",
      "\u001b[1m307/307\u001b[0m \u001b[32m━━━━━━━━━━━━━━━━━━━━\u001b[0m\u001b[37m\u001b[0m \u001b[1m293s\u001b[0m 953ms/step - accuracy: 0.3270 - loss: 1.3663 - val_accuracy: 0.3810 - val_loss: 1.3434 - learning_rate: 0.0010\n",
      "Epoch 25/150\n",
      "\u001b[1m307/307\u001b[0m \u001b[32m━━━━━━━━━━━━━━━━━━━━\u001b[0m\u001b[37m\u001b[0m \u001b[1m291s\u001b[0m 948ms/step - accuracy: 0.3125 - loss: 1.3772 - val_accuracy: 0.3810 - val_loss: 1.3434 - learning_rate: 0.0010\n",
      "Epoch 26/150\n",
      "\u001b[1m307/307\u001b[0m \u001b[32m━━━━━━━━━━━━━━━━━━━━\u001b[0m\u001b[37m\u001b[0m \u001b[1m295s\u001b[0m 959ms/step - accuracy: 0.3296 - loss: 1.3711 - val_accuracy: 0.3810 - val_loss: 1.3435 - learning_rate: 0.0010\n",
      "Epoch 27/150\n",
      "\u001b[1m307/307\u001b[0m \u001b[32m━━━━━━━━━━━━━━━━━━━━\u001b[0m\u001b[37m\u001b[0m \u001b[1m291s\u001b[0m 948ms/step - accuracy: 0.3120 - loss: 1.3720 - val_accuracy: 0.3810 - val_loss: 1.3433 - learning_rate: 0.0010\n",
      "Epoch 28/150\n",
      "\u001b[1m307/307\u001b[0m \u001b[32m━━━━━━━━━━━━━━━━━━━━\u001b[0m\u001b[37m\u001b[0m \u001b[1m300s\u001b[0m 976ms/step - accuracy: 0.3671 - loss: 1.3515 - val_accuracy: 0.3810 - val_loss: 1.3430 - learning_rate: 0.0010\n",
      "Epoch 29/150\n",
      "\u001b[1m307/307\u001b[0m \u001b[32m━━━━━━━━━━━━━━━━━━━━\u001b[0m\u001b[37m\u001b[0m \u001b[1m224s\u001b[0m 728ms/step - accuracy: 0.3158 - loss: 1.3678 - val_accuracy: 0.3810 - val_loss: 1.3436 - learning_rate: 0.0010\n",
      "Epoch 30/150\n",
      "\u001b[1m307/307\u001b[0m \u001b[32m━━━━━━━━━━━━━━━━━━━━\u001b[0m\u001b[37m\u001b[0m \u001b[1m137s\u001b[0m 446ms/step - accuracy: 0.3291 - loss: 1.3690 - val_accuracy: 0.3810 - val_loss: 1.3433 - learning_rate: 0.0010\n",
      "Epoch 31/150\n",
      "\u001b[1m307/307\u001b[0m \u001b[32m━━━━━━━━━━━━━━━━━━━━\u001b[0m\u001b[37m\u001b[0m \u001b[1m138s\u001b[0m 449ms/step - accuracy: 0.3152 - loss: 1.3654 - val_accuracy: 0.3810 - val_loss: 1.3430 - learning_rate: 0.0010\n",
      "Epoch 32/150\n",
      "\u001b[1m307/307\u001b[0m \u001b[32m━━━━━━━━━━━━━━━━━━━━\u001b[0m\u001b[37m\u001b[0m \u001b[1m225s\u001b[0m 732ms/step - accuracy: 0.2959 - loss: 1.3732 - val_accuracy: 0.3810 - val_loss: 1.3437 - learning_rate: 0.0010\n",
      "Epoch 33/150\n",
      "\u001b[1m307/307\u001b[0m \u001b[32m━━━━━━━━━━━━━━━━━━━━\u001b[0m\u001b[37m\u001b[0m \u001b[1m154s\u001b[0m 499ms/step - accuracy: 0.3177 - loss: 1.3680 - val_accuracy: 0.3810 - val_loss: 1.3441 - learning_rate: 0.0010\n",
      "Epoch 34/150\n",
      "\u001b[1m307/307\u001b[0m \u001b[32m━━━━━━━━━━━━━━━━━━━━\u001b[0m\u001b[37m\u001b[0m \u001b[1m148s\u001b[0m 483ms/step - accuracy: 0.3130 - loss: 1.3692 - val_accuracy: 0.3810 - val_loss: 1.3443 - learning_rate: 0.0010\n",
      "Epoch 35/150\n",
      "\u001b[1m307/307\u001b[0m \u001b[32m━━━━━━━━━━━━━━━━━━━━\u001b[0m\u001b[37m\u001b[0m \u001b[1m136s\u001b[0m 443ms/step - accuracy: 0.3272 - loss: 1.3599 - val_accuracy: 0.3810 - val_loss: 1.3438 - learning_rate: 0.0010\n",
      "Epoch 36/150\n",
      "\u001b[1m307/307\u001b[0m \u001b[32m━━━━━━━━━━━━━━━━━━━━\u001b[0m\u001b[37m\u001b[0m \u001b[1m142s\u001b[0m 462ms/step - accuracy: 0.2841 - loss: 1.3885 - val_accuracy: 0.3810 - val_loss: 1.3438 - learning_rate: 0.0010\n",
      "Epoch 37/150\n",
      "\u001b[1m307/307\u001b[0m \u001b[32m━━━━━━━━━━━━━━━━━━━━\u001b[0m\u001b[37m\u001b[0m \u001b[1m157s\u001b[0m 511ms/step - accuracy: 0.3124 - loss: 1.3659 - val_accuracy: 0.3810 - val_loss: 1.3437 - learning_rate: 0.0010\n",
      "Epoch 38/150\n",
      "\u001b[1m307/307\u001b[0m \u001b[32m━━━━━━━━━━━━━━━━━━━━\u001b[0m\u001b[37m\u001b[0m \u001b[1m171s\u001b[0m 558ms/step - accuracy: 0.3165 - loss: 1.3664 - val_accuracy: 0.3810 - val_loss: 1.3438 - learning_rate: 0.0010\n",
      "Epoch 39/150\n",
      "\u001b[1m307/307\u001b[0m \u001b[32m━━━━━━━━━━━━━━━━━━━━\u001b[0m\u001b[37m\u001b[0m \u001b[1m188s\u001b[0m 610ms/step - accuracy: 0.3130 - loss: 1.3633 - val_accuracy: 0.3810 - val_loss: 1.3440 - learning_rate: 0.0010\n",
      "Epoch 40/150\n",
      "\u001b[1m307/307\u001b[0m \u001b[32m━━━━━━━━━━━━━━━━━━━━\u001b[0m\u001b[37m\u001b[0m \u001b[1m198s\u001b[0m 644ms/step - accuracy: 0.3129 - loss: 1.3689 - val_accuracy: 0.3810 - val_loss: 1.3439 - learning_rate: 0.0010\n",
      "Epoch 41/150\n",
      "\u001b[1m115/307\u001b[0m \u001b[32m━━━━━━━\u001b[0m\u001b[37m━━━━━━━━━━━━━\u001b[0m \u001b[1m1:10\u001b[0m 368ms/step - accuracy: 0.2608 - loss: 1.3927"
     ]
    }
   ],
   "source": [
    "\n",
    "print(\"[C6: ln1]:  Training Model\")\n",
    "resNet_model.compile(optimizer= tf.keras.optimizers.Adam(0.1), loss= \"categorical_crossentropy\", metrics=['accuracy'])\n",
    "history = resNet_model.fit(\n",
    "    train_generator,\n",
    "    validation_data = valid_generator,\n",
    "    epochs=150,\n",
    "    callbacks=[reduce_lr, early_stop, model_checkpoint, learning_rate_scheduler],\n",
    ")\n",
    "\n",
    "print(\"[C6: ln5]: Model Training Successfull\")"
   ]
  },
  {
   "cell_type": "code",
   "execution_count": null,
   "id": "4f5bb6e2-84dd-4ac1-b77e-e9c734b85e3a",
   "metadata": {},
   "outputs": [],
   "source": [
    "%matplotlib inline\n",
    "loss_plt = history.history['loss']\n",
    "accuracy_plt = history.history['accuracy']\n",
    "vAccuracy_plt = history.history['val_accuracy']\n",
    "vLoss_plt = history.history['val_loss']\n",
    "lr_plt = history.history['learning_rate']\n",
    "\n",
    "print(\"[C7: ln5]: Model Results Obtained\")"
   ]
  },
  {
   "cell_type": "code",
   "execution_count": null,
   "id": "08bbf957-0cf2-4c5e-8934-9756a40c9b17",
   "metadata": {},
   "outputs": [],
   "source": [
    "plt.plot(loss_plt, label=\"Loss\")\n",
    "plt.plot(vLoss_plt, label=\"Val Loss\")\n",
    "plt.title(\"Loss vs Epoch\")\n",
    "plt.xlabel(\"Epoch\")\n",
    "plt.ylabel(\"Loss\")\n",
    "plt.legend()\n",
    "print(\"[C8: ln4]: Plotted LOSS vs EPOCH\")"
   ]
  },
  {
   "cell_type": "code",
   "execution_count": null,
   "id": "d999d95d-8e13-4bc5-9269-01c704f7391d",
   "metadata": {},
   "outputs": [],
   "source": [
    "plt.plot(accuracy_plt, label=\"Accuracy\")\n",
    "plt.plot(vAccuracy_plt, label=\"Val Accuracy\")\n",
    "plt.xlabel(\"Epoch\")\n",
    "plt.ylabel(\"Accuracy\")\n",
    "plt.title(\"Accuracy vs Epoch\")\n",
    "plt.legend()\n",
    "\n",
    "print(\"[C9: ln4]: Plotted ACCURACY vs EPOCH\")"
   ]
  },
  {
   "cell_type": "code",
   "execution_count": null,
   "id": "20fc7534-bfca-4ee9-9e4e-bb11fdb13497",
   "metadata": {},
   "outputs": [],
   "source": [
    "plt.plot(lr_plt)\n",
    "plt.title(\"Learning Rate vs Epoch\")\n",
    "plt.xlabel(\"Epoch\")\n",
    "plt.ylabel(\"Learning Rate\")\n",
    "\n",
    "print(\"[C9: ln4]: Plotted Learning Rate vs EPOCH\")"
   ]
  },
  {
   "cell_type": "code",
   "execution_count": null,
   "id": "9ed4f439-e330-4f05-a26c-263cfa65037b",
   "metadata": {},
   "outputs": [],
   "source": [
    "# Fetching the necessary data\n",
    "train_accuracy = history.history['accuracy']\n",
    "val_accuracy = history.history['val_accuracy']\n",
    "\n",
    "train_loss = history.history['loss']\n",
    "val_loss = history.history['val_loss']\n",
    "\n",
    "lr = history.history['learning_rate']\n",
    "\n",
    "#print(f\"{train_accuracy}\\n\\n{val_accuracy}\\n\\n{train_loss}\\n\\n{val_loss}\\n\\n\")\n",
    "\n",
    "file_1 = open(r\"resNet Results\\Values\\train_accuracy.txt\",'w')\n",
    "file_2 = open(r\"resNet Results\\Values\\val_accuracy.txt\",'w')\n",
    "file_3 = open(r\"resNet Results\\Values\\train_loss.txt\",'w')\n",
    "file_4 = open(r\"resNet Results\\Values\\val_loss.txt\",'w')\n",
    "file_5 = open(r\"resNet Results\\Values\\learning_rate.txt\",'w')\n",
    "\n",
    "for i in train_accuracy:\n",
    "    i = str(i)+\"\\n\"\n",
    "    file_1.write(i)\n",
    "    \n",
    "print(\"[C11: ln15]: Train_accuracy data appended_successfully\")\n",
    "file_1.close()\n",
    "\n",
    "for i in val_accuracy:\n",
    "    i = str(i)+\"\\n\"\n",
    "    file_2.write(i)\n",
    "    \n",
    "print(\"[C11: ln21]: Val_accuracy data appended_successfully\")\n",
    "file_2.close()\n",
    "\n",
    "for i in train_loss:\n",
    "    i = str(i)+\"\\n\"\n",
    "    file_3.write(i)\n",
    "    \n",
    "print(\"[C11: ln26]: Train_loss data appended_successfully\")\n",
    "file_3.close()\n",
    "\n",
    "for i in val_loss:\n",
    "    i = str(i)+\"\\n\"\n",
    "    file_4.write(i)\n",
    "    \n",
    "print(\"[C11: ln31]: Val_loss data appended_successfully\")\n",
    "file_4.close()\n",
    "\n",
    "for i in lr:\n",
    "    i = str(i)+\"\\n\"\n",
    "    file_5.write(i)\n",
    "    \n",
    "print(\"[C11: ln50]: Learning Rate data appended_successfully\")\n",
    "file_5.close()"
   ]
  },
  {
   "cell_type": "markdown",
   "id": "7733bc1f-797f-4f94-9eea-70c305230459",
   "metadata": {},
   "source": [
    "EPOCH : 04:40 AM Started 05:52AM Completed\n",
    "EPOCH : 06:29 AM Started 07:34AM Completed"
   ]
  },
  {
   "cell_type": "code",
   "execution_count": null,
   "id": "3c06147a-673c-4cb7-99fc-9611d1fc330b",
   "metadata": {},
   "outputs": [],
   "source": []
  }
 ],
 "metadata": {
  "kernelspec": {
   "display_name": "Python 3 (ipykernel)",
   "language": "python",
   "name": "python3"
  },
  "language_info": {
   "codemirror_mode": {
    "name": "ipython",
    "version": 3
   },
   "file_extension": ".py",
   "mimetype": "text/x-python",
   "name": "python",
   "nbconvert_exporter": "python",
   "pygments_lexer": "ipython3",
   "version": "3.12.4"
  }
 },
 "nbformat": 4,
 "nbformat_minor": 5
}
